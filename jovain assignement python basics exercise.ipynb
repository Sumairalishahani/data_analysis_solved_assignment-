{
 "cells": [
  {
   "cell_type": "code",
   "execution_count": 1,
   "id": "f7140033",
   "metadata": {},
   "outputs": [],
   "source": [
    "# Install the library\n",
    "!pip install jovian --upgrade --quiet\n"
   ]
  },
  {
   "cell_type": "code",
   "execution_count": 2,
   "id": "3892db79",
   "metadata": {},
   "outputs": [],
   "source": [
    "# Import it\n",
    "import jovian\n"
   ]
  },
  {
   "cell_type": "code",
   "execution_count": 3,
   "id": "c53403b1",
   "metadata": {},
   "outputs": [],
   "source": [
    "project_name='python-practice-assignment'"
   ]
  },
  {
   "cell_type": "markdown",
   "id": "8c7fc4ec",
   "metadata": {},
   "source": [
    "# Problem 1 - Variables and Data Types\n"
   ]
  },
  {
   "cell_type": "code",
   "execution_count": 5,
   "id": "a604f33d",
   "metadata": {},
   "outputs": [],
   "source": [
    "# Q1\n",
    "name ='sumair ali'\n",
    "# Q2\n",
    "age=19\n",
    "# Q3\n",
    "has_android_phone = True\n",
    "\n",
    "\n"
   ]
  },
  {
   "cell_type": "code",
   "execution_count": 7,
   "id": "dd55d003",
   "metadata": {},
   "outputs": [
    {
     "name": "stdout",
     "output_type": "stream",
     "text": [
      "name: sumair ali\n",
      "age: 19\n",
      "has_android_phone: True\n"
     ]
    }
   ],
   "source": [
    "\n",
    "print('name:',name)\n",
    "print('age:',age)\n",
    "print('has_android_phone:',has_android_phone)"
   ]
  },
  {
   "cell_type": "code",
   "execution_count": 32,
   "id": "57c89ab4",
   "metadata": {},
   "outputs": [],
   "source": [
    "# Q4\n",
    "person = {\n",
    "    \"Name\":name,\n",
    "    \"Age\":age,\n",
    "    \"Android phone\":has_android_phone\n",
    "}\n"
   ]
  },
  {
   "cell_type": "code",
   "execution_count": 34,
   "id": "5351bf43",
   "metadata": {},
   "outputs": [
    {
     "name": "stdout",
     "output_type": "stream",
     "text": [
      "sumair ali is aged 19, and owns an Android phone.\n"
     ]
    }
   ],
   "source": [
    "print(\"{} is aged {}, and owns an {}.\".format(\n",
    "    person[\"Name\"], \n",
    "    person[\"Age\"], \n",
    "    \"Android phone\" if person[\"Android phone\"] else \"iPhone\"\n",
    "))"
   ]
  },
  {
   "cell_type": "code",
   "execution_count": 36,
   "id": "86c7346d",
   "metadata": {},
   "outputs": [
    {
     "name": "stdout",
     "output_type": "stream",
     "text": [
      "<class 'str'>\n",
      "<class 'int'>\n",
      "<class 'bool'>\n"
     ]
    }
   ],
   "source": [
    "# Q4 b\n",
    "for i in person.values():\n",
    "    print(type(i))\n",
    "    "
   ]
  },
  {
   "cell_type": "code",
   "execution_count": 38,
   "id": "ed4d4f8d",
   "metadata": {},
   "outputs": [
    {
     "data": {
      "application/javascript": [
       "window.require && require([\"base/js/namespace\"],function(Jupyter){Jupyter.notebook.save_checkpoint()})"
      ],
      "text/plain": [
       "<IPython.core.display.Javascript object>"
      ]
     },
     "metadata": {},
     "output_type": "display_data"
    },
    {
     "name": "stdout",
     "output_type": "stream",
     "text": [
      "[jovian] Please enter your API key ( from https://jovian.ai/ ):\u001b[0m\n",
      "API KEY: ········\n",
      "[jovian] Creating a new project \"sumairalishahani1/python-practice-assignment\"\u001b[0m\n",
      "[jovian] Committed successfully! https://jovian.ai/sumairalishahani1/python-practice-assignment\u001b[0m\n"
     ]
    },
    {
     "data": {
      "text/plain": [
       "'https://jovian.ai/sumairalishahani1/python-practice-assignment'"
      ]
     },
     "execution_count": 38,
     "metadata": {},
     "output_type": "execute_result"
    }
   ],
   "source": [
    "jovian.commit(project=project_name,environment=None)\n"
   ]
  },
  {
   "cell_type": "markdown",
   "id": "7b125453",
   "metadata": {},
   "source": [
    "# problem 2 -Working with lists"
   ]
  },
  {
   "cell_type": "code",
   "execution_count": 6,
   "id": "d7190843",
   "metadata": {},
   "outputs": [],
   "source": [
    "# Q1\n",
    "my_list =['Red',2,True]\n",
    "\n"
   ]
  },
  {
   "cell_type": "code",
   "execution_count": 7,
   "id": "63f35979",
   "metadata": {},
   "outputs": [
    {
     "data": {
      "text/plain": [
       "['Red', 2, True]"
      ]
     },
     "execution_count": 7,
     "metadata": {},
     "output_type": "execute_result"
    }
   ],
   "source": [
    "my_list\n"
   ]
  },
  {
   "cell_type": "code",
   "execution_count": 8,
   "id": "6e002707",
   "metadata": {},
   "outputs": [
    {
     "name": "stdout",
     "output_type": "stream",
     "text": [
      "My favorite color is Red\n"
     ]
    }
   ],
   "source": [
    "# Q6\n",
    "print('My favorite color is', my_list[0])\n"
   ]
  },
  {
   "cell_type": "code",
   "execution_count": 9,
   "id": "6282c9de",
   "metadata": {},
   "outputs": [
    {
     "name": "stdout",
     "output_type": "stream",
     "text": [
      "I have 2 pet(s).\n"
     ]
    }
   ],
   "source": [
    "print('I have {} pet(s).'.format(my_list[1]))\n"
   ]
  },
  {
   "cell_type": "code",
   "execution_count": 10,
   "id": "b94b7b2a",
   "metadata": {},
   "outputs": [
    {
     "name": "stdout",
     "output_type": "stream",
     "text": [
      "I have previous programming experience\n"
     ]
    }
   ],
   "source": [
    "if my_list[2]:\n",
    "    print(\"I have previous programming experience\")\n",
    "else:\n",
    "    print(\"I do not have previous programming experience\")"
   ]
  },
  {
   "cell_type": "code",
   "execution_count": 11,
   "id": "e16f1421",
   "metadata": {},
   "outputs": [],
   "source": [
    "# Q7\n",
    "my_list.append(9)"
   ]
  },
  {
   "cell_type": "code",
   "execution_count": 12,
   "id": "10d579b8",
   "metadata": {},
   "outputs": [
    {
     "data": {
      "text/plain": [
       "['Red', 2, True, 9]"
      ]
     },
     "execution_count": 12,
     "metadata": {},
     "output_type": "execute_result"
    }
   ],
   "source": [
    "my_list"
   ]
  },
  {
   "cell_type": "code",
   "execution_count": 17,
   "id": "46c2d508",
   "metadata": {},
   "outputs": [],
   "source": [
    "# Q8\n",
    "my_list.remove('Red')\n",
    "\n"
   ]
  },
  {
   "cell_type": "code",
   "execution_count": 16,
   "id": "e68c57b8",
   "metadata": {},
   "outputs": [
    {
     "data": {
      "text/plain": [
       "[2, True, 9]"
      ]
     },
     "execution_count": 16,
     "metadata": {},
     "output_type": "execute_result"
    }
   ],
   "source": [
    "my_list\n"
   ]
  },
  {
   "cell_type": "code",
   "execution_count": 18,
   "id": "911ffe39",
   "metadata": {},
   "outputs": [
    {
     "name": "stdout",
     "output_type": "stream",
     "text": [
      "the list has 3 elements\n"
     ]
    }
   ],
   "source": [
    "# Q9\n",
    "#print(\"The list has {} elements.\".format(len(my_list))\n",
    "print(f'the list has {len(my_list)} elements')\n"
   ]
  },
  {
   "cell_type": "code",
   "execution_count": 20,
   "id": "6541c75f",
   "metadata": {},
   "outputs": [],
   "source": [
    "project_name='python-practice-assignment'"
   ]
  },
  {
   "cell_type": "code",
   "execution_count": 21,
   "id": "ac150e8f",
   "metadata": {},
   "outputs": [
    {
     "data": {
      "application/javascript": [
       "window.require && require([\"base/js/namespace\"],function(Jupyter){Jupyter.notebook.save_checkpoint()})"
      ],
      "text/plain": [
       "<IPython.core.display.Javascript object>"
      ]
     },
     "metadata": {},
     "output_type": "display_data"
    },
    {
     "name": "stdout",
     "output_type": "stream",
     "text": [
      "[jovian] Updating notebook \"sumairalishahani1/python-practice-assignment\" on https://jovian.ai/\u001b[0m\n",
      "[jovian] Committed successfully! https://jovian.ai/sumairalishahani1/python-practice-assignment\u001b[0m\n"
     ]
    },
    {
     "data": {
      "text/plain": [
       "'https://jovian.ai/sumairalishahani1/python-practice-assignment'"
      ]
     },
     "execution_count": 21,
     "metadata": {},
     "output_type": "execute_result"
    }
   ],
   "source": [
    "jovian.commit(project=project_name,environment=None)\n"
   ]
  },
  {
   "cell_type": "markdown",
   "id": "313e435d",
   "metadata": {},
   "source": [
    "# Problem 3 - Conditions and loops\n"
   ]
  },
  {
   "cell_type": "code",
   "execution_count": 22,
   "id": "5c97e04d",
   "metadata": {},
   "outputs": [
    {
     "name": "stdout",
     "output_type": "stream",
     "text": [
      "The sum of all the numbers divisible by 7 between 18 and 534 is 20461\n"
     ]
    }
   ],
   "source": [
    "# store the final answer in this variable\n",
    "sum_of_numbers = 0\n",
    "\n",
    "# perform the calculation here\n",
    "\n",
    "for num in range(18,535):\n",
    "    if num%7==0:\n",
    "        sum_of_numbers+=num\n",
    "print('The sum of all the numbers divisible by 7 between 18 and 534 is', sum_of_numbers)\n",
    "        "
   ]
  },
  {
   "cell_type": "code",
   "execution_count": 23,
   "id": "0591af9b",
   "metadata": {},
   "outputs": [
    {
     "data": {
      "application/javascript": [
       "window.require && require([\"base/js/namespace\"],function(Jupyter){Jupyter.notebook.save_checkpoint()})"
      ],
      "text/plain": [
       "<IPython.core.display.Javascript object>"
      ]
     },
     "metadata": {},
     "output_type": "display_data"
    },
    {
     "name": "stdout",
     "output_type": "stream",
     "text": [
      "[jovian] Updating notebook \"sumairalishahani1/python-practice-assignment\" on https://jovian.ai/\u001b[0m\n",
      "[jovian] Committed successfully! https://jovian.ai/sumairalishahani1/python-practice-assignment\u001b[0m\n"
     ]
    },
    {
     "data": {
      "text/plain": [
       "'https://jovian.ai/sumairalishahani1/python-practice-assignment'"
      ]
     },
     "execution_count": 23,
     "metadata": {},
     "output_type": "execute_result"
    }
   ],
   "source": [
    "jovian.commit(project=project_name,environment=None)\n"
   ]
  },
  {
   "cell_type": "markdown",
   "id": "a234d411",
   "metadata": {},
   "source": [
    "# Problem 4 - Flying to the Bahamas\n"
   ]
  },
  {
   "cell_type": "code",
   "execution_count": 24,
   "id": "4a2fa0e3",
   "metadata": {},
   "outputs": [
    {
     "name": "stdout",
     "output_type": "stream",
     "text": [
      "The company makes of a profit of 800 dollars\n"
     ]
    }
   ],
   "source": [
    "# Q11\n",
    "cost_of_flying_plane = 5000\n",
    "\n",
    "number_of_passengers = 29\n",
    "\n",
    "price_of_ticket = 200\n",
    "\n",
    "profit = number_of_passengers*price_of_ticket-5000\n",
    "\n",
    "print('The company makes of a profit of {} dollars'.format(profit))"
   ]
  },
  {
   "cell_type": "code",
   "execution_count": 26,
   "id": "5f36978e",
   "metadata": {},
   "outputs": [
    {
     "name": "stdout",
     "output_type": "stream",
     "text": [
      "The company makes an overall loss of -2600 dollars\n"
     ]
    }
   ],
   "source": [
    "# Q12 (b)\n",
    "return_passenger=12\n",
    "amount = return_passenger*price_of_ticket-5000\n",
    "\n",
    "\n",
    "\n",
    "if amount>5000:\n",
    "    print(\"The company makes an overall profit of {} dollars\".format(amount))\n",
    "else:\n",
    "    print(\"The company makes an overall loss of {} dollars\".format(amount))"
   ]
  },
  {
   "cell_type": "code",
   "execution_count": 27,
   "id": "a176cd09",
   "metadata": {},
   "outputs": [
    {
     "data": {
      "application/javascript": [
       "window.require && require([\"base/js/namespace\"],function(Jupyter){Jupyter.notebook.save_checkpoint()})"
      ],
      "text/plain": [
       "<IPython.core.display.Javascript object>"
      ]
     },
     "metadata": {},
     "output_type": "display_data"
    },
    {
     "name": "stdout",
     "output_type": "stream",
     "text": [
      "[jovian] Updating notebook \"sumairalishahani1/python-practice-assignment\" on https://jovian.ai/\u001b[0m\n",
      "[jovian] Committed successfully! https://jovian.ai/sumairalishahani1/python-practice-assignment\u001b[0m\n"
     ]
    },
    {
     "data": {
      "text/plain": [
       "'https://jovian.ai/sumairalishahani1/python-practice-assignment'"
      ]
     },
     "execution_count": 27,
     "metadata": {},
     "output_type": "execute_result"
    }
   ],
   "source": [
    "jovian.commit(project=project_name,environment=None)\n"
   ]
  },
  {
   "cell_type": "markdown",
   "id": "fb723182",
   "metadata": {},
   "source": [
    "# Problem 5 - Twitter Sentiment Analysis\n"
   ]
  },
  {
   "cell_type": "code",
   "execution_count": 28,
   "id": "007b80d6",
   "metadata": {},
   "outputs": [],
   "source": [
    "tweets = [\n",
    "    \"Wow, what a great day today!! #sunshine\",\n",
    "    \"I feel sad about the things going on around us. #covid19\",\n",
    "    \"I'm really excited to learn Python with @JovianML #zerotopandas\",\n",
    "    \"This is a really nice song. #linkinpark\",\n",
    "    \"The python programming language is useful for data science\",\n",
    "    \"Why do bad things happen to me?\",\n",
    "    \"Apple announces the release of the new iPhone 12. Fans are excited.\",\n",
    "    \"Spent my day with family!! #happy\",\n",
    "    \"Check out my blog post on common string operations in Python. #zerotopandas\",\n",
    "    \"Freecodecamp has great coding tutorials. #skillup\"\n",
    "]"
   ]
  },
  {
   "cell_type": "code",
   "execution_count": 31,
   "id": "6041d0bf",
   "metadata": {},
   "outputs": [],
   "source": [
    "# Q12\n",
    "number_of_tweets=len(tweets)\n"
   ]
  },
  {
   "cell_type": "code",
   "execution_count": 32,
   "id": "536c61f4",
   "metadata": {},
   "outputs": [],
   "source": [
    "happy_words = ['great', 'excited', 'happy', 'nice', 'wonderful', 'amazing', 'good', 'best']\n",
    "\n",
    "sad_words = ['sad', 'bad', 'tragic', 'unhappy', 'worst']\n",
    "\n"
   ]
  },
  {
   "cell_type": "code",
   "execution_count": 33,
   "id": "a9c52fb0",
   "metadata": {},
   "outputs": [],
   "source": [
    "sample_tweet = tweets[0]\n"
   ]
  },
  {
   "cell_type": "code",
   "execution_count": 37,
   "id": "068e979b",
   "metadata": {},
   "outputs": [
    {
     "data": {
      "text/plain": [
       "'Wow, what a great day today!! #sunshine'"
      ]
     },
     "execution_count": 37,
     "metadata": {},
     "output_type": "execute_result"
    }
   ],
   "source": [
    "sample_tweet"
   ]
  },
  {
   "cell_type": "code",
   "execution_count": 45,
   "id": "d95a6e55",
   "metadata": {},
   "outputs": [],
   "source": [
    "is_tweet_happy = False\n",
    "\n",
    "# Get a word from happy_words\n",
    "for word in happy_words:\n",
    "    # Check if the tweet contains the word\n",
    "    if word in sample_tweet:\n",
    "        # Word found! Mark the tweet as happy\n",
    "        is_tweet_happy = True\n",
    "\n"
   ]
  },
  {
   "cell_type": "code",
   "execution_count": 41,
   "id": "6e8da03f",
   "metadata": {},
   "outputs": [
    {
     "data": {
      "text/plain": [
       "True"
      ]
     },
     "execution_count": 41,
     "metadata": {},
     "output_type": "execute_result"
    }
   ],
   "source": [
    "is_tweet_happy"
   ]
  },
  {
   "cell_type": "code",
   "execution_count": 50,
   "id": "07eccf7e",
   "metadata": {},
   "outputs": [],
   "source": [
    "# Q13: Determine the number of tweets in the dataset that can be classified as happy.\n",
    "# store the final answer in this variable\n",
    "number_of_happy_tweets = 0\n",
    "\n",
    "# perform the calculations here\n",
    "for i in happy_words:\n",
    "    for j in tweets:\n",
    "        if i in j:\n",
    "            number_of_happy_tweets+=1\n",
    "            \n"
   ]
  },
  {
   "cell_type": "code",
   "execution_count": 52,
   "id": "4e2093e7",
   "metadata": {},
   "outputs": [
    {
     "name": "stdout",
     "output_type": "stream",
     "text": [
      "Number of happy tweets: 6\n"
     ]
    }
   ],
   "source": [
    "print( \"Number of happy tweets:\", number_of_happy_tweets)\n"
   ]
  },
  {
   "cell_type": "code",
   "execution_count": 60,
   "id": "0f38787e",
   "metadata": {},
   "outputs": [],
   "source": [
    "#Q14: What fraction of the total number of tweets are happy?\n",
    "\n",
    "\n",
    "happy_fraction = 6/10\n"
   ]
  },
  {
   "cell_type": "code",
   "execution_count": 54,
   "id": "8590737d",
   "metadata": {},
   "outputs": [
    {
     "name": "stdout",
     "output_type": "stream",
     "text": [
      "The fraction of happy tweets is: 0.6\n"
     ]
    }
   ],
   "source": [
    "print(\"The fraction of happy tweets is:\", happy_fraction)\n"
   ]
  },
  {
   "cell_type": "code",
   "execution_count": 55,
   "id": "b6756fc0",
   "metadata": {},
   "outputs": [],
   "source": [
    "# store the final answer in this variable\n",
    "number_of_sad_tweets = 0\n",
    "\n",
    "# perform the calculations here\n",
    "for i in sad_words:\n",
    "    \n",
    "    for j in tweets:\n",
    "        if i in j:\n",
    "            number_of_sad_tweets+=1"
   ]
  },
  {
   "cell_type": "code",
   "execution_count": 56,
   "id": "fe45b4be",
   "metadata": {},
   "outputs": [
    {
     "name": "stdout",
     "output_type": "stream",
     "text": [
      "Number of sad tweets: 2\n"
     ]
    }
   ],
   "source": [
    "print(\"Number of sad tweets:\", number_of_sad_tweets)"
   ]
  },
  {
   "cell_type": "code",
   "execution_count": 57,
   "id": "f630f2f1",
   "metadata": {},
   "outputs": [],
   "source": [
    "sad_fraction = 2/10"
   ]
  },
  {
   "cell_type": "code",
   "execution_count": 58,
   "id": "0f004756",
   "metadata": {},
   "outputs": [
    {
     "name": "stdout",
     "output_type": "stream",
     "text": [
      "The fraction of sad tweets is: 0.2\n"
     ]
    }
   ],
   "source": [
    "print(\"The fraction of sad tweets is:\", sad_fraction)\n"
   ]
  },
  {
   "cell_type": "code",
   "execution_count": 59,
   "id": "647f7716",
   "metadata": {},
   "outputs": [
    {
     "data": {
      "application/javascript": [
       "window.require && require([\"base/js/namespace\"],function(Jupyter){Jupyter.notebook.save_checkpoint()})"
      ],
      "text/plain": [
       "<IPython.core.display.Javascript object>"
      ]
     },
     "metadata": {},
     "output_type": "display_data"
    },
    {
     "name": "stdout",
     "output_type": "stream",
     "text": [
      "[jovian] Updating notebook \"sumairalishahani1/python-practice-assignment\" on https://jovian.ai/\u001b[0m\n",
      "[jovian] Committed successfully! https://jovian.ai/sumairalishahani1/python-practice-assignment\u001b[0m\n"
     ]
    },
    {
     "data": {
      "text/plain": [
       "'https://jovian.ai/sumairalishahani1/python-practice-assignment'"
      ]
     },
     "execution_count": 59,
     "metadata": {},
     "output_type": "execute_result"
    }
   ],
   "source": [
    "jovian.commit(project=project_name,environment=None)\n"
   ]
  },
  {
   "cell_type": "code",
   "execution_count": null,
   "id": "89d5aa8d",
   "metadata": {},
   "outputs": [],
   "source": []
  }
 ],
 "metadata": {
  "kernelspec": {
   "display_name": "Python 3 (ipykernel)",
   "language": "python",
   "name": "python3"
  },
  "language_info": {
   "codemirror_mode": {
    "name": "ipython",
    "version": 3
   },
   "file_extension": ".py",
   "mimetype": "text/x-python",
   "name": "python",
   "nbconvert_exporter": "python",
   "pygments_lexer": "ipython3",
   "version": "3.9.12"
  }
 },
 "nbformat": 4,
 "nbformat_minor": 5
}
